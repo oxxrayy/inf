{
  "cells": [
    {
      "cell_type": "code",
      "execution_count": 15,
      "metadata": {
        "trusted": true
      },
      "outputs": [
        {
          "name": "stdout",
          "output_type": "stream",
          "text": [
            " 1000110\n"
          ]
        }
      ],
      "source": [
        "Tabl = [[n for n in range(0,10)], ['0000000','0001111','0010110','0011001','0100101','0101010','0110011','0111100','1000011','1001100']]\n",
        "Code = input('')"
      ]
    },
    {
      "cell_type": "code",
      "execution_count": 8,
      "metadata": {
        "trusted": true
      },
      "outputs": [],
      "source": [
        "def Distance(x,y):\n",
        "    k= int(7)\n",
        "    for i in range(1,8):\n",
        "        if int(x)%10==int(y)%10:\n",
        "            k=k-1\n",
        "            x= x//10\n",
        "            y=y//10\n",
        "    return(k)\n",
        "            "
      ]
    },
    {
      "cell_type": "code",
      "execution_count": null,
      "metadata": {
        "trusted": true
      },
      "outputs": [],
      "source": [
        "while not len(Code) == 7:\n",
        "    Code = input('код = ')"
      ]
    },
    {
      "cell_type": "code",
      "execution_count": null,
      "metadata": {
        "trusted": true
      },
      "outputs": [],
      "source": [
        "minD = Distance(Code,Tabl[1][0] )\n",
        "imin = 0"
      ]
    },
    {
      "cell_type": "code",
      "execution_count": null,
      "metadata": {
        "trusted": true
      },
      "outputs": [],
      "source": [
        "for j in range(1,10):\n",
        "    D=Distance(Code, Tabl[1,j])\n",
        "    if D<minD:\n",
        "        minD=D\n",
        "        imin=j"
      ]
    },
    {
      "cell_type": "code",
      "execution_count": null,
      "metadata": {
        "trusted": true
      },
      "outputs": [],
      "source": [
        "if minD==0:\n",
        "    print(f'код верный: символ', {Tabl[0,imin]})\n",
        "elif minD==1:\n",
        "    print(f'код исправлен: символ', {Tabl[0,imin]})\n",
        "else:\n",
        "    print('код неверный')"
      ]
    },
    {
      "cell_type": "code",
      "execution_count": null,
      "metadata": {},
      "outputs": [],
      "source": []
    }
  ],
  "metadata": {
    "kernelspec": {
      "display_name": "Python (Pyodide)",
      "language": "python",
      "name": "python"
    },
    "language_info": {
      "codemirror_mode": {
        "name": "python",
        "version": 3
      },
      "file_extension": ".py",
      "mimetype": "text/x-python",
      "name": "python",
      "nbconvert_exporter": "python",
      "pygments_lexer": "ipython3",
      "version": "3.8"
    }
  },
  "nbformat": 4,
  "nbformat_minor": 4
}
